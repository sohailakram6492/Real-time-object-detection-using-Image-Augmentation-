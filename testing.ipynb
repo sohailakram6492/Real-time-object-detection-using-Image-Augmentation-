{
 "cells": [
  {
   "cell_type": "code",
   "execution_count": 1,
   "metadata": {},
   "outputs": [],
   "source": [
    "import cv2 ,os ,json\n",
    "import albumentations as A\n",
    "import numpy as np\n",
    "from matplotlib import pyplot as plt\n",
    "from PIL import Image "
   ]
  },
  {
   "cell_type": "code",
   "execution_count": 2,
   "metadata": {},
   "outputs": [],
   "source": [
    "with open('./via_project.json') as file:\n",
    "  db = json.load(file)\n",
    "filter = ['filename','x','y','width','height','cat','dog']"
   ]
  },
  {
   "cell_type": "code",
   "execution_count": 4,
   "metadata": {},
   "outputs": [
    {
     "data": {
      "text/plain": [
       "['filename:1.jpeg',\n",
       " 'x:323',\n",
       " 'y:36',\n",
       " 'width:320',\n",
       " 'height:479',\n",
       " 'name:dog',\n",
       " 'filename:2.jpeg',\n",
       " 'x:0',\n",
       " 'y:47',\n",
       " 'width:160',\n",
       " 'height:112',\n",
       " 'name:dog',\n",
       " 'x:163',\n",
       " 'y:68',\n",
       " 'width:97',\n",
       " 'height:80',\n",
       " 'name:cat',\n",
       " 'filename:3.jpeg',\n",
       " 'x:34',\n",
       " 'y:1',\n",
       " 'width:191',\n",
       " 'height:151',\n",
       " 'name:cat',\n",
       " 'filename:4.jpeg',\n",
       " 'x:67',\n",
       " 'y:379',\n",
       " 'width:823',\n",
       " 'height:1356',\n",
       " 'name:cat',\n",
       " 'filename:5.jpeg',\n",
       " 'x:12',\n",
       " 'y:86',\n",
       " 'width:770',\n",
       " 'height:705',\n",
       " 'name:dog',\n",
       " 'filename:6.jpeg',\n",
       " 'x:80',\n",
       " 'y:48',\n",
       " 'width:168',\n",
       " 'height:226',\n",
       " 'name:dog',\n",
       " 'x:252',\n",
       " 'y:137',\n",
       " 'width:235',\n",
       " 'height:142',\n",
       " 'name:cat',\n",
       " 'filename:7.jpeg',\n",
       " 'x:22',\n",
       " 'y:245',\n",
       " 'width:608',\n",
       " 'height:212',\n",
       " 'name:cat',\n",
       " 'x:586',\n",
       " 'y:169',\n",
       " 'width:301',\n",
       " 'height:277',\n",
       " 'name:dog']"
      ]
     },
     "execution_count": 4,
     "metadata": {},
     "output_type": "execute_result"
    }
   ],
   "source": [
    "def get_depth(dic):\n",
    "    list_ = []\n",
    "    \n",
    "    def val(key, value):\n",
    "        if key in filter or value in filter:\n",
    "            list_.append(str(f'{key}:{value}'))\n",
    "\n",
    "    def check_dic(dic):\n",
    "        if isinstance(dic,dict):\n",
    "            for k,v in dic.items():\n",
    "                if isinstance(v, (dict, list)):\n",
    "                    check_dic(v)\n",
    "                else:\n",
    "                    val(k,v)\n",
    "        elif isinstance(dic , (list)):\n",
    "            for d in dic:\n",
    "                if isinstance(d, (dict, list)):\n",
    "                    check_dic(d)\n",
    "                # else:                 #  ?????\n",
    "                #     val(k,v)\n",
    "\n",
    "    check_dic(dic)\n",
    "    return list_\n",
    "main_data = get_depth(db)\n",
    "main_data"
   ]
  },
  {
   "cell_type": "code",
   "execution_count": 126,
   "metadata": {},
   "outputs": [],
   "source": [
    "def box (main_data):\n",
    "    list_ = []\n",
    "    list_s = []\n",
    "    xx = ['x','y', 'width', 'height', 'name']\n",
    "    for i in main_data:\n",
    "        if i.split(\":\")[0] == 'filename':\n",
    "            list_=[]\n",
    "            file_name=i.split(':')[1]\n",
    "        elif i.split(\":\")[0] in xx:\n",
    "                list_s.append(i.split(':')[1])\n",
    "                # print('1 elif',list_s)\n",
    "        if i.split(\":\")[0] == 'name':\n",
    "                list_.append(list_s)\n",
    "                print(file_name,list_)\n",
    "                # print('2 elif')\n",
    "                list_s =[]\n",
    "                \n",
    "            \n",
    "        # list_s = []\n",
    "    # print(list_)\n",
    "    # print(list_s)\n",
    "    return list_\n"
   ]
  },
  {
   "cell_type": "code",
   "execution_count": 127,
   "metadata": {},
   "outputs": [
    {
     "name": "stdout",
     "output_type": "stream",
     "text": [
      "1.jpeg [['323', '36', '320', '479', 'dog']]\n",
      "2.jpeg [['0', '47', '160', '112', 'dog']]\n",
      "2.jpeg [['0', '47', '160', '112', 'dog'], ['163', '68', '97', '80', 'cat']]\n",
      "3.jpeg [['34', '1', '191', '151', 'cat']]\n",
      "4.jpeg [['67', '379', '823', '1356', 'cat']]\n",
      "5.jpeg [['12', '86', '770', '705', 'dog']]\n",
      "6.jpeg [['80', '48', '168', '226', 'dog']]\n",
      "6.jpeg [['80', '48', '168', '226', 'dog'], ['252', '137', '235', '142', 'cat']]\n",
      "7.jpeg [['22', '245', '608', '212', 'cat']]\n",
      "7.jpeg [['22', '245', '608', '212', 'cat'], ['586', '169', '301', '277', 'dog']]\n"
     ]
    },
    {
     "data": {
      "text/plain": [
       "[['22', '245', '608', '212', 'cat'], ['586', '169', '301', '277', 'dog']]"
      ]
     },
     "execution_count": 127,
     "metadata": {},
     "output_type": "execute_result"
    }
   ],
   "source": [
    "box(main_data)"
   ]
  },
  {
   "cell_type": "code",
   "execution_count": null,
   "metadata": {},
   "outputs": [],
   "source": []
  }
 ],
 "metadata": {
  "interpreter": {
   "hash": "11e4f431d9f4ca25019afdd815f68cb7830df17d42868ab8fdcc67f96c0b156b"
  },
  "kernelspec": {
   "display_name": "Python 3.7.0 64-bit",
   "language": "python",
   "name": "python3"
  },
  "language_info": {
   "codemirror_mode": {
    "name": "ipython",
    "version": 3
   },
   "file_extension": ".py",
   "mimetype": "text/x-python",
   "name": "python",
   "nbconvert_exporter": "python",
   "pygments_lexer": "ipython3",
   "version": "3.7.0"
  },
  "orig_nbformat": 4
 },
 "nbformat": 4,
 "nbformat_minor": 2
}
